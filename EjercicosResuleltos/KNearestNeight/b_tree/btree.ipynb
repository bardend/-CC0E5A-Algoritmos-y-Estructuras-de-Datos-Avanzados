{
 "cells": [
  {
   "cell_type": "code",
   "execution_count": 2,
   "id": "09ad51fe",
   "metadata": {},
   "outputs": [],
   "source": [
    "from btree import BTreeNode, BTree"
   ]
  },
  {
   "cell_type": "code",
   "execution_count": 53,
   "id": "2f52d310",
   "metadata": {},
   "outputs": [],
   "source": [
    "from __future__ import annotations\n",
    "from typing import List, Optional, Tuple, Iterator, TypeVar, Generic\n",
    "from bisect import bisect_left\n",
    "from collections import deque\n",
    "import logging\n",
    "\n",
    "K = TypeVar('K')\n",
    "\n",
    "class BTreeChild(BTree[K]):\n",
    "    \"\"\"\n",
    "    Clase que representa un nodo hijo en un Árbol B.\n",
    "    Hereda de BTreeNode y puede tener funcionalidades adicionales.\n",
    "    \"\"\"\n",
    "    def show(self, level: int = 0) -> None:\n",
    "        self._show(self.root)\n",
    "\n",
    "    def _show(self, node: BTreeNode[K], level: int = 0) -> None:\n",
    "        if node is None:\n",
    "            return\n",
    "        print(\"  \" * level + f\"Node: {node.keys}\")\n",
    "        for child in node.children:\n",
    "            self._show(child, level + 1)\n",
    "\n",
    "    def show_in_order(self) -> List[K]:\n",
    "        \"\"\"\n",
    "        Muestra los elementos del árbol en orden.\n",
    "        :return: Lista de elementos en orden.\n",
    "        \"\"\"\n",
    "        result = []\n",
    "        self._show_in_order(self.root, result)\n",
    "        return result\n",
    "\n",
    "    def _show_in_order(self, node: BTreeNode[K], result: List[K]) -> None:\n",
    "        if node is None:\n",
    "            return\n",
    "        for i, key in enumerate(node.keys):\n",
    "            if not node.leaf :\n",
    "                self._show_in_order(node.children[i], result)\n",
    "            result.append(key)\n",
    "        if not node.leaf:\n",
    "            self._show_in_order(node.children[len(node.keys)], result)\n",
    "            \n",
    "    def nearest_element(self, key: K) -> Optional[K]:\n",
    "        if self.root is None:\n",
    "            return None\n",
    "        return self._nearest_element(self.root, key, float('inf'))\n",
    "        \n",
    "    def _nearest_element(self, node: BTreeNode[K], key: K,min_dis: K)-> Optional[K]:\n",
    "        if node is None:\n",
    "            return None\n",
    "        \n",
    "        ret = None\n",
    "        \n",
    "        pos = bisect_left(node.keys, key)\n",
    "        cur_dis  = abs(node.keys[pos] - key) if pos < len(node.keys) else float('inf')\n",
    "        \n",
    "        if cur_dis < min_dis:\n",
    "            min_dis = cur_dis\n",
    "            ret = node.keys[pos]\n",
    "            \n",
    "        cur_dis = abs(node.keys[pos+1] - key) if pos + 1 < len(node.keys) else float('inf')\n",
    "        if cur_dis < min_dis:\n",
    "            min_dis = cur_dis\n",
    "            ret = node.keys[pos + 1]\n",
    "\n",
    "        option2 = self._nearest_element(node.children[pos] if pos < len(node.children) else None, key, min_dis)\n",
    "        if option2 is not None:\n",
    "            if ret is not None:\n",
    "                if abs(option2 - key) < abs(ret - key):\n",
    "                    ret = option2\n",
    "            else :\n",
    "                ret = option2\n",
    "                \n",
    "        return ret          "
   ]
  },
  {
   "cell_type": "code",
   "execution_count": 54,
   "id": "ee593867",
   "metadata": {},
   "outputs": [
    {
     "name": "stdout",
     "output_type": "stream",
     "text": [
      "Node: [10]\n",
      "  Node: [-1, 2, 3, 5]\n",
      "  Node: [17, 20, 100]\n"
     ]
    }
   ],
   "source": [
    "tree = BTreeChild[int](3)\n",
    "values = [10, 20, 5, 17, 2, 3, 100, -1]\n",
    "for v in values:\n",
    "    tree.insert(v)\n",
    "assert tree.traverse() == sorted(values)\n",
    "assert tree.validate()\n",
    "tree.show()"
   ]
  },
  {
   "cell_type": "code",
   "execution_count": 55,
   "id": "d49e7558",
   "metadata": {},
   "outputs": [
    {
     "name": "stdout",
     "output_type": "stream",
     "text": [
      "[-1, 2, 3, 5, 10, 17, 20, 100]\n"
     ]
    }
   ],
   "source": [
    "print(tree.show_in_order())"
   ]
  },
  {
   "cell_type": "code",
   "execution_count": 56,
   "id": "55b4be86",
   "metadata": {},
   "outputs": [
    {
     "name": "stdout",
     "output_type": "stream",
     "text": [
      "17\n"
     ]
    }
   ],
   "source": [
    "target = 15\n",
    "print(tree.nearest_element(target))"
   ]
  },
  {
   "cell_type": "code",
   "execution_count": null,
   "id": "ccef9e41",
   "metadata": {},
   "outputs": [],
   "source": []
  },
  {
   "cell_type": "markdown",
   "id": "be4c75d8",
   "metadata": {},
   "source": [
    "1. El tiempo amortizado es de ``log(n)`` debido a que en la recursion solo iteramos hasta la altura del arbol.\n",
    "2. Borrados mal gestionados \n",
    "    2.1 Caso en el que solo se borra y no se remplaza por algun valor que conserve la invariaza.\n",
    "\n",
    "$$\n",
    "        |4|10|100|                   \\qquad  \\qquad \\qquad  \\qquad \\qquad \\qquad \\qquad \\qquad \\qquad \\qquad                   |4|\\qquad |100| \\\\\n",
    "\n",
    "|-1|3|  |6|9|    |120|200|      ----borramos 10------>|-1|3|  |6|9|    |120|200|\n",
    "$$\n",
    "Al realizar ``pos = bisect_left``, tendriamos que mandar la recursion sobre pos, (pos-1, pos-2, ....), si desde [pos-1, pos-2, pos-3, ....] son vacios."
   ]
  },
  {
   "cell_type": "markdown",
   "id": "5be30752",
   "metadata": {},
   "source": []
  }
 ],
 "metadata": {
  "kernelspec": {
   "display_name": "Python 3",
   "language": "python",
   "name": "python3"
  },
  "language_info": {
   "codemirror_mode": {
    "name": "ipython",
    "version": 3
   },
   "file_extension": ".py",
   "mimetype": "text/x-python",
   "name": "python",
   "nbconvert_exporter": "python",
   "pygments_lexer": "ipython3",
   "version": "3.10.12"
  }
 },
 "nbformat": 4,
 "nbformat_minor": 5
}
