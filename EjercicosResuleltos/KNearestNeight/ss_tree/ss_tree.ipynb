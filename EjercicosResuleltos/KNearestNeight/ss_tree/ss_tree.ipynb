{
  "nbformat": 4,
  "nbformat_minor": 0,
  "metadata": {
    "colab": {
      "provenance": []
    },
    "kernelspec": {
      "name": "python3",
      "display_name": "Python 3"
    },
    "language_info": {
      "name": "python"
    }
  },
  "cells": [
    {
      "cell_type": "code",
      "source": [
        "import time\n",
        "import random\n",
        "from ss_tree_1 import Point, SsTree\n",
        "\n",
        "'''\n",
        "heap = DWayHeap(branching_factor= 2)\n",
        "def __sizeof__(self) -> int:\n",
        "def insert(self, element: Any, priority: float) -> None:\n",
        "def peek(self) -> Any:\n",
        "def pair_top(self) -> Any:\n",
        "\n",
        "heap.insert(\"a\", 10)\n",
        "heap.insert(\"b\", 1)\n",
        "\n",
        "while heap.__len__() :\n",
        "    print(heap.pair_top())\n",
        "\n",
        "'''"
      ],
      "metadata": {
        "colab": {
          "base_uri": "https://localhost:8080/",
          "height": 87
        },
        "id": "Rks5iay_FSRj",
        "outputId": "070fbe0e-3711-4a79-afb3-072046435cf7"
      },
      "execution_count": 1,
      "outputs": [
        {
          "output_type": "execute_result",
          "data": {
            "text/plain": [
              "'\\nheap = DWayHeap(branching_factor= 2)\\ndef __sizeof__(self) -> int:\\ndef insert(self, element: Any, priority: float) -> None:\\ndef peek(self) -> Any:\\ndef pair_top(self) -> Any:\\n\\nheap.insert(\"a\", 10)\\nheap.insert(\"b\", 1)\\n\\nwhile heap.__len__() :\\n    print(heap.pair_top())\\n\\n'"
            ],
            "application/vnd.google.colaboratory.intrinsic+json": {
              "type": "string"
            }
          },
          "metadata": {},
          "execution_count": 1
        }
      ]
    },
    {
      "cell_type": "code",
      "execution_count": 1,
      "metadata": {
        "id": "Yq50A3FbyHGS"
      },
      "outputs": [],
      "source": []
    },
    {
      "cell_type": "code",
      "source": [
        "def generate_random_points(n: int, dim: int) -> list[Point]:\n",
        "    \"\"\"Genera n puntos aleatorios en dimensión dim con coordenadas en [0,1).\"\"\"\n",
        "    #return [Point((random.random() for _ in range(dim))) for _ in range(n)]\n",
        "    factor = 100\n",
        "    return [Point(tuple(round(random.random() * factor, 3) for _ in range(dim))) for _ in range(n)]"
      ],
      "metadata": {
        "id": "5ZRfb9AByl6E"
      },
      "execution_count": 2,
      "outputs": []
    },
    {
      "cell_type": "code",
      "source": [
        "n = 1000\n",
        "d = 2\n",
        "points = generate_random_points(n, d)\n"
      ],
      "metadata": {
        "id": "EOFzDS9Oy1z-"
      },
      "execution_count": 3,
      "outputs": []
    },
    {
      "cell_type": "code",
      "source": [
        "def k_nearest_brute_force(target_point, points, k) :\n",
        "    return sorted(points, key=lambda p: p.distance_sq_to(target_point))[:k]\n",
        "\n",
        "current_point = Point((0.0, 0.0))\n",
        "print(k_nearest_brute_force(current_point, points, 5))"
      ],
      "metadata": {
        "colab": {
          "base_uri": "https://localhost:8080/"
        },
        "id": "e2fVGlV7y-1s",
        "outputId": "81ac10b5-9130-4f43-a196-0006cd9abc6a"
      },
      "execution_count": 4,
      "outputs": [
        {
          "output_type": "stream",
          "name": "stdout",
          "text": [
            "[Point(_coords=(5.243, 2.433)), Point(_coords=(7.315, 2.452)), Point(_coords=(2.839, 8.852)), Point(_coords=(8.445, 7.07)), Point(_coords=(5.192, 10.003))]\n"
          ]
        }
      ]
    },
    {
      "cell_type": "code",
      "source": [
        "tree = SsTree(points)"
      ],
      "metadata": {
        "id": "1TqwouhjFVCq"
      },
      "execution_count": 5,
      "outputs": []
    },
    {
      "cell_type": "code",
      "source": [
        "print(tree.k_nearest_neighbours(current_point, 5))"
      ],
      "metadata": {
        "colab": {
          "base_uri": "https://localhost:8080/"
        },
        "id": "-xGLsZ1pzeQh",
        "outputId": "4e7cf608-103b-4ee1-cdc7-f706fad76ce1"
      },
      "execution_count": 6,
      "outputs": [
        {
          "output_type": "stream",
          "name": "stdout",
          "text": [
            "vamos por el root\n",
            "[Point(_coords=(5.243, 2.433)), Point(_coords=(7.315, 2.452)), Point(_coords=(2.839, 8.852)), Point(_coords=(8.445, 7.07)), Point(_coords=(5.192, 10.003))]\n"
          ]
        }
      ]
    },
    {
      "cell_type": "code",
      "source": [],
      "metadata": {
        "id": "KHX0CxhI0V_Z"
      },
      "execution_count": 6,
      "outputs": []
    }
  ]
}