{
  "cells": [
    {
      "cell_type": "code",
      "execution_count": 4,
      "metadata": {
        "id": "Wi4GxZm_muA9"
      },
      "outputs": [],
      "source": [
        "from d_heap import DWayHeap\n",
        "from kdtree import _Node, KdTree, Point"
      ]
    },
    {
      "cell_type": "code",
      "execution_count": 2,
      "metadata": {
        "colab": {
          "base_uri": "https://localhost:8080/"
        },
        "id": "6uAJSvh71g6L",
        "outputId": "704112e4-e02c-49f1-a18e-25c5b69d87ad"
      },
      "outputs": [
        {
          "output_type": "stream",
          "name": "stdout",
          "text": [
            "20\n",
            "1\n",
            "0\n"
          ]
        }
      ],
      "source": [
        "heap = DWayHeap(branching_factor = 2)\n",
        "heap.insert(0, 5) #value, priority\n",
        "heap.insert(1, 20)\n",
        "\n",
        "print(heap.peek_priority())\n",
        "while not heap.is_empty():\n",
        "  print(heap.top())"
      ]
    },
    {
      "cell_type": "code",
      "execution_count": 5,
      "metadata": {
        "id": "NlMJ5ctnqPU1"
      },
      "outputs": [],
      "source": [
        "from os import close\n",
        "class NodeChild(_Node):\n",
        "\n",
        "  @property\n",
        "  def dim(self):\n",
        "      \"\"\"Índice de la dimensión de comparación en este nodo.\"\"\"\n",
        "      if self._K is None or self._K == 0:\n",
        "          raise ValueError(\"Dimensionalidad del nodo _K no establecida o es cero.\")\n",
        "      return self._depth % self._K\n",
        "\n",
        "  def add(self, point_to_add):\n",
        "    \"\"\"Añade un punto a este subárbol.\"\"\"\n",
        "    if self.isEmpty():\n",
        "      # Este nodo vacío se convierte en una hoja.\n",
        "      self._point = point_to_add\n",
        "      self._left = _Node.Empty(point_to_add.dimensionality, self._depth + 1)\n",
        "      self._right = _Node.Empty(point_to_add.dimensionality, self._depth + 1)\n",
        "      self._size = 1\n",
        "      if self._K is None:\n",
        "        self._K = point_to_add.dimensionality\n",
        "        return True\n",
        "\n",
        "    if self._point == point_to_add:\n",
        "      return False  # El punto ya existe.\n",
        "\n",
        "    current_dim = self.dim\n",
        "    coord_to_add = point_to_add.coordinate(current_dim)\n",
        "    coord_node = self._point.coordinate(current_dim)\n",
        "\n",
        "    added = False\n",
        "    if coord_to_add < coord_node:\n",
        "      added = self._left.add(point_to_add)\n",
        "    else:\n",
        "      added = self._right.add(point_to_add)\n",
        "    if added:\n",
        "      self._size += 1\n",
        "    return added\n",
        "\n",
        "  def nearestNeighbour(self, target_point, current_nn=None, current_nn_dist=float('inf')):\n",
        "      \"\"\"Busca el vecino más cercano recursivamente.\"\"\"\n",
        "      if self.isEmpty():\n",
        "          return current_nn, current_nn_dist\n",
        "\n",
        "      dist_to_current = self._point.distanceTo(target_point)\n",
        "      if dist_to_current < current_nn_dist:\n",
        "          current_nn_dist = dist_to_current\n",
        "          current_nn = self._point\n",
        "\n",
        "      current_dim_val = self.dim\n",
        "      node_coord = self._point.coordinate(current_dim_val)\n",
        "      target_coord = target_point.coordinate(current_dim_val)\n",
        "\n",
        "      if target_coord < node_coord:\n",
        "          closest_branch = self._left\n",
        "          further_branch = self._right\n",
        "      else:\n",
        "          closest_branch = self._right\n",
        "          further_branch = self._left\n",
        "\n",
        "      if closest_branch:\n",
        "          current_nn, current_nn_dist = closest_branch.nearestNeighbour(target_point, current_nn, current_nn_dist)\n",
        "\n",
        "      # Comprueba si la otra rama podría tener un punto más cercano.\n",
        "      if abs(target_coord - node_coord) < current_nn_dist:\n",
        "          if further_branch:\n",
        "              current_nn, current_nn_dist = further_branch.nearestNeighbour(target_point, current_nn, current_nn_dist)\n",
        "\n",
        "      return current_nn, current_nn_dist\n",
        "\n"
      ]
    },
    {
      "cell_type": "code",
      "execution_count": 6,
      "metadata": {
        "id": "tkuB6zeanRuq"
      },
      "outputs": [],
      "source": [
        "class KdTreeChild(KdTree):\n",
        "  def add(self, point):\n",
        "    \"\"\"Añade un punto al árbol.\"\"\"\n",
        "    if not isinstance(point, Point):\n",
        "        raise TypeError(ERROR_MSG_PARAM_INVALID_POINT)\n",
        "\n",
        "    if self._K is None:  # Primer punto, define K.\n",
        "        self._K = point.dimensionality\n",
        "        self._root._K = self._K\n",
        "        added = self._root.add(point)\n",
        "    else:\n",
        "        Point.validatePoint(point, self.dimensionality, 'KdTree.add')\n",
        "        added = self._root.add(point)\n",
        "    return added\n",
        "\n",
        "  def nearestNeighbour(self, point):\n",
        "    \"\"\"Encuentra el vecino más cercano a un punto dado.\"\"\"\n",
        "    if self.isEmpty():\n",
        "        return None\n",
        "    Point.validatePoint(point, self.dimensionality, 'KdTree.nearestNeighbour')\n",
        "    nn, _ = self._root.nearestNeighbour(point)\n",
        "    return nn\n",
        "\n",
        "  def kNearestNeighbours(self, target_point, k):\n",
        "    if self.isEmpty():\n",
        "        return None\n",
        "    return self._root.kNearestNeighbours(target_point, k) #Linea 607 de kdtree.py\n"
      ]
    },
    {
      "cell_type": "code",
      "execution_count": 7,
      "metadata": {
        "colab": {
          "base_uri": "https://localhost:8080/"
        },
        "id": "zG0nxPT_pwc-",
        "outputId": "55a1382d-a057-4d72-f63c-ef8be6b9b957"
      },
      "outputs": [
        {
          "output_type": "stream",
          "name": "stdout",
          "text": [
            "--- Inicializando pruebas del KdTree ---\n"
          ]
        }
      ],
      "source": [
        "from random import randint, randrange, random\n",
        "# Código de pruebas\n",
        "print(\"--- Inicializando pruebas del KdTree ---\")\n",
        "points_2d = [Point([2, 3]), Point([5, 4]), Point([9, 6]), Point([4, 7]), Point([8, 1]), Point([7, 2])]\n",
        "tree_2d = KdTreeChild(points_2d)"
      ]
    },
    {
      "cell_type": "code",
      "source": [
        "def brute_force(points, target_point, k):\n",
        "\n",
        "    candidates = []\n",
        "    for point in points:\n",
        "        distance = target_point.distanceTo(point)\n",
        "        candidates.append((point, distance))\n",
        "\n",
        "    candidates.sort(key = lambda pair: pair[1])\n",
        "    return [a for a, b in candidates[:k]]\n"
      ],
      "metadata": {
        "id": "8iiyqFUPHobu"
      },
      "execution_count": 8,
      "outputs": []
    },
    {
      "cell_type": "code",
      "source": [
        "def knn_k_nearest(tree_2d, target_point, k):\n",
        "  heap = tree_2d.kNearestNeighbours(target_point, k)\n",
        "  target_points = []\n",
        "  while not heap.is_empty():\n",
        "    target_points.append(heap.top())\n",
        "\n",
        "  return target_points[::-1]"
      ],
      "metadata": {
        "id": "ebru0SQyJYE-"
      },
      "execution_count": 9,
      "outputs": []
    },
    {
      "cell_type": "code",
      "source": [
        "print(knn_k_nearest(tree_2d, Point([1, 1]), 3))\n",
        "print(brute_force(points_2d, Point([1, 1]), 3))\n"
      ],
      "metadata": {
        "colab": {
          "base_uri": "https://localhost:8080/"
        },
        "id": "hoRz8HF3G6RE",
        "outputId": "07838bd6-b7ed-4f01-8445-7b1e687dbeed"
      },
      "execution_count": 10,
      "outputs": [
        {
          "output_type": "stream",
          "name": "stdout",
          "text": [
            "[Point([2.0, 3.0]), Point([5.0, 4.0]), Point([7.0, 2.0])]\n",
            "[Point([2.0, 3.0]), Point([5.0, 4.0]), Point([7.0, 2.0])]\n"
          ]
        }
      ]
    },
    {
      "cell_type": "code",
      "source": [
        "num_max_points = 100000\n",
        "points_2d = [Point([randint(0, 1000), randint(0, 1000)]) for _ in range(num_max_points)]\n",
        "tree_2d = KdTreeChild(points_2d)"
      ],
      "metadata": {
        "id": "Jo0bwhlKHlgO"
      },
      "execution_count": 11,
      "outputs": []
    },
    {
      "cell_type": "markdown",
      "source": [],
      "metadata": {
        "id": "rBRnQbn4ZvuU"
      }
    },
    {
      "cell_type": "code",
      "source": [
        "import time\n",
        "\n",
        "def get_times(point_query, f, k, tree_2d = None):\n",
        "  arr_x = [0]\n",
        "  arr_y = [0]\n",
        "\n",
        "  for i, point in enumerate(point_query):\n",
        "    start_time = time.time()\n",
        "\n",
        "    if tree_2d is not None:\n",
        "      f(tree_2d, point, k)\n",
        "    else:\n",
        "      f(points_2d, point, k)\n",
        "\n",
        "    arr_x.append(i)\n",
        "    arr_y.append(time.time() - start_time + arr_y[-1])\n",
        "\n",
        "  return arr_x, arr_y\n"
      ],
      "metadata": {
        "id": "FPvxf3XCI_lj"
      },
      "execution_count": 12,
      "outputs": []
    },
    {
      "cell_type": "code",
      "source": [
        "\n",
        "import math\n",
        "import matplotlib.colors as mcolors\n",
        "from matplotlib import pyplot as plt\n",
        "\n",
        "def grafica_2d(vec_x, vec_y, xlabel, ylabel, title):\n",
        "  plt.plot(vec_x, vec_y)\n",
        "  plt.xlabel(xlabel)\n",
        "  plt.ylabel(ylabel)\n",
        "  plt.title(title)\n",
        "  plt.show()"
      ],
      "metadata": {
        "id": "4oZhhkrpMhJ4"
      },
      "execution_count": 13,
      "outputs": []
    },
    {
      "cell_type": "code",
      "source": [
        "num_queries = 50\n",
        "point_query = [Point([randint(0, 1000), randint(0, 1000)]) for _ in range(num_queries)]\n",
        "\n",
        "x1, y1 = get_times(point_query, brute_force, 3)\n",
        "x2, y2 = get_times(point_query, knn_k_nearest, 3, tree_2d)\n"
      ],
      "metadata": {
        "id": "sPmxp9ZUKd6o"
      },
      "execution_count": 14,
      "outputs": []
    },
    {
      "cell_type": "code",
      "source": [
        "grafica_2d(x1, y1, \"Numero de operaciones Query\", \"Tiempo (s)\", \"Brute Force\")\n",
        "grafica_2d(x2, y2, \"Numero de opercaiones Query\", \"Tiempo (s)\", \"Knn-k-Nearest\")"
      ],
      "metadata": {
        "colab": {
          "base_uri": "https://localhost:8080/",
          "height": 927
        },
        "id": "bSyV6Gg6Lm_h",
        "outputId": "a331effb-8027-4bcf-b605-1a6bbfd02467"
      },
      "execution_count": 15,
      "outputs": [
        {
          "output_type": "display_data",
          "data": {
            "text/plain": [
              "<Figure size 640x480 with 1 Axes>"
            ],
            "image/png": "[encoded data removed]"
          },
          "metadata": {}
        },
        {
          "output_type": "display_data",
          "data": {
            "text/plain": [
              "<Figure size 640x480 with 1 Axes>"
            ],
            "image/png": "[encoded data removed]"
          },
          "metadata": {}
        }
      ]
    },
    {
      "cell_type": "code",
      "source": [
        "num_max_points = 1000000\n",
        "points_2d = [Point([randint(0, 1000), randint(0, 1000)]) for _ in range(num_max_points)]\n",
        "def get_time(points_2d, mediand_method):\n",
        "  start_time = time.time()\n",
        "  tree_2d = KdTreeChild(points_2d, median_method=mediand_method)\n",
        "  return time.time() - start_time\n",
        "\n",
        "print(f\"Los tiempos en segundos es {get_time(points_2d, True)} de con las medias y {get_time(points_2d, False)} sin ellas\")\n"
      ],
      "metadata": {
        "colab": {
          "base_uri": "https://localhost:8080/"
        },
        "id": "1mmOW0_RYWKB",
        "outputId": "b3bea664-13d0-444c-9d21-21cd386226c5"
      },
      "execution_count": 16,
      "outputs": [
        {
          "output_type": "stream",
          "name": "stdout",
          "text": [
            "Los tiempos en segundos es 18.67488932609558 de con las medias y 5.0772271156311035 sin ellas\n"
          ]
        }
      ]
    },
    {
      "cell_type": "code",
      "source": [],
      "metadata": {
        "id": "6gh_rPytae-I"
      },
      "execution_count": 16,
      "outputs": []
    },
    {
      "cell_type": "markdown",
      "source": [
        "Cuenta las distancias calculadas en:\n",
        "\n",
        "Nube uniforme en\n",
        "- [0,1]^{k}.\n",
        "- Cluster gaussiano .\n",
        "\n",
        "1. Cluster gaussiano tiene una distribucion normal, tiene una campana una mayor aglomeracion de puntos por lo que al realizar un ``kNearestNeighbors``, podriamos potencial mente visitar a los puntos dentro de la campana.\n",
        "2."
      ],
      "metadata": {
        "id": "tdk1ZnKpdLoD"
      }
    }
  ],
  "metadata": {
    "colab": {
      "provenance": []
    },
    "kernelspec": {
      "display_name": "Python 3",
      "name": "python3"
    },
    "language_info": {
      "name": "python"
    }
  },
  "nbformat": 4,
  "nbformat_minor": 0
}